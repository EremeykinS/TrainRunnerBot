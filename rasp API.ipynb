{
 "cells": [
  {
   "cell_type": "code",
   "execution_count": 2,
   "metadata": {
    "collapsed": false
   },
   "outputs": [],
   "source": [
    "from config import *\n",
    "import json\n",
    "import datetime\n",
    "from collections import namedtuple\n",
    "from urllib import request\n",
    "from urllib.parse import urlencode\n",
    "params = {'apikey':ya_apikey,'format':'json','lang':'ru'}\n",
    "params['to'] = 's9601975'\n",
    "params['from'] = 's9600811'\n",
    "today = datetime.datetime.now().date().strftime('%Y-%m-%d')\n",
    "params['date'] = today\n",
    "url = ya_apiurl + urlencode(params)\n",
    "r=json.loads(request.urlopen(url).read().decode(\"utf-8\"))\n",
    "total = r['pagination']['total']\n",
    "dformat = '%Y-%m-%d %H:%M:%S'\n",
    "train = namedtuple('train', ['uid', 'dept'])\n",
    "trains = [train(r['threads'][i]['thread']['uid'], datetime.datetime.strptime(r['threads'][i]['departure'], dformat)) for i in range(total)]\n",
    "strains = sorted(trains, key=lambda t: datetime.datetime.now()-t.dept)\n",
    "rest_trains = [t for t in trains if (datetime.datetime.now()-t.dept)<datetime.timedelta(0, 0, 0)]"
   ]
  },
  {
   "cell_type": "code",
   "execution_count": 3,
   "metadata": {
    "collapsed": false
   },
   "outputs": [
    {
     "name": "stdout",
     "output_type": "stream",
     "text": [
      "Ближайшая электричка отправляется в  18:50\n"
     ]
    }
   ],
   "source": [
    "print('Ближайшая электричка отправляется в ', rest_trains[0].dept.strftime('%H:%M'))"
   ]
  }
 ],
 "metadata": {
  "kernelspec": {
   "display_name": "Python 3",
   "language": "python",
   "name": "python3"
  },
  "language_info": {
   "codemirror_mode": {
    "name": "ipython",
    "version": 3
   },
   "file_extension": ".py",
   "mimetype": "text/x-python",
   "name": "python",
   "nbconvert_exporter": "python",
   "pygments_lexer": "ipython3",
   "version": "3.5.1"
  }
 },
 "nbformat": 4,
 "nbformat_minor": 0
}
