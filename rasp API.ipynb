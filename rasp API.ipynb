{
 "cells": [
  {
   "cell_type": "code",
   "execution_count": null,
   "metadata": {
    "collapsed": true
   },
   "outputs": [],
   "source": [
    "train = namedtuple('train', ['uid', 'dept'])\n",
    "trains = [train(r['threads'][i]['thread']['uid'], datetime.datetime.strptime(r['threads'][i]['departure'], dformat)) for i in range(total)]\n",
    "strains = sorted(trains, key=lambda t: datetime.datetime.now()-t.dept)\n",
    "rest_trains = [t for t in trains if (datetime.datetime.now()-t.dept)<datetime.timedelta(0, 0, 0)]"
   ]
  },
  {
   "cell_type": "code",
   "execution_count": null,
   "metadata": {
    "collapsed": false
   },
   "outputs": [],
   "source": [
    "print('Ближайшая электричка отправляется в ', rest_trains[0].dept.strftime('%H:%M'))"
   ]
  },
  {
   "cell_type": "code",
   "execution_count": 1,
   "metadata": {
    "collapsed": true
   },
   "outputs": [],
   "source": [
    "from config import *\n",
    "import json\n",
    "import datetime\n",
    "from collections import namedtuple\n",
    "from urllib import request\n",
    "from urllib.parse import urlencode\n",
    "train = namedtuple('train', ['uid', 'arrival', 'departure', 'duration', 'stops', 'express'])\n",
    "def get_trains(from_esr, to_esr, date):\n",
    "    params = {'apikey': ya_apikey, 'format': 'json', 'lang': 'ru', 'system': 'esr', 'transport_types': 'suburban'}\n",
    "    params['from'] = from_esr\n",
    "    params['to'] = to_esr\n",
    "    params['date'] = date.date().strftime('%Y-%m-%d')\n",
    "    url = ya_apiurl + urlencode(params)\n",
    "    r = json.loads(request.urlopen(url).read().decode(\"utf-8\"))\n",
    "    d_format = '%Y-%m-%d %H:%M:%S'\n",
    "    trains = [train(uid=t['thread']['uid'],\n",
    "                    arrival=datetime.datetime.strptime(t['arrival'], d_format),\n",
    "                    departure=datetime.datetime.strptime(t['departure'], d_format),\n",
    "                    duration=t['duration'],\n",
    "                    stops=t['stops'],\n",
    "                    express=bool(t['thread']['express_type']))\n",
    "              for t in r['threads']]\n",
    "    return trains"
   ]
  },
  {
   "cell_type": "code",
   "execution_count": 4,
   "metadata": {
    "collapsed": false
   },
   "outputs": [],
   "source": [
    "ts=get_trains(192906, 193415, datetime.datetime.now())"
   ]
  }
 ],
 "metadata": {
  "kernelspec": {
   "display_name": "Python 3",
   "language": "python",
   "name": "python3"
  },
  "language_info": {
   "codemirror_mode": {
    "name": "ipython",
    "version": 3
   },
   "file_extension": ".py",
   "mimetype": "text/x-python",
   "name": "python",
   "nbconvert_exporter": "python",
   "pygments_lexer": "ipython3",
   "version": "3.5.1"
  }
 },
 "nbformat": 4,
 "nbformat_minor": 0
}
